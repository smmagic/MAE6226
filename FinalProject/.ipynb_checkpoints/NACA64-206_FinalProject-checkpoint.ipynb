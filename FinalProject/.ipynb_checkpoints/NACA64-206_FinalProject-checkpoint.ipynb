{
 "cells": [
  {
   "cell_type": "code",
   "execution_count": 1,
   "metadata": {},
   "outputs": [],
   "source": [
    "import numpy\n",
    "import math\n",
    "from scipy import integrate, linalg\n",
    "from matplotlib import pyplot\n",
    "%matplotlib inline"
   ]
  },
  {
   "cell_type": "code",
   "execution_count": 2,
   "metadata": {},
   "outputs": [],
   "source": [
    "class Panel:\n",
    "    def __init__(self, xa, ya, xb, yb):\n",
    "        self.xa, self.ya = xa, ya  # panel starting-point\n",
    "        self.xb, self.yb = xb, yb  # panel ending-point\n",
    "        \n",
    "        self.xc, self.yc = (xa + xb) / 2, (ya + yb) / 2  # panel center\n",
    "        self.length = numpy.sqrt((xb - xa)**2 + (yb - ya)**2)  # panel length\n",
    "        \n",
    "        # orientation of panel (angle between x-axis and panel's normal)\n",
    "        if xb - xa <= 0.0:\n",
    "            self.beta = numpy.arccos((yb - ya) / self.length)\n",
    "        elif xb - xa > 0.0:\n",
    "            self.beta = numpy.pi + numpy.arccos(-(yb - ya) / self.length)\n",
    "        \n",
    "        # panel location\n",
    "        if self.beta <= numpy.pi:\n",
    "            self.loc = 'upper'  # upper surface\n",
    "        else:\n",
    "            self.loc = 'lower'  # lower surface\n",
    "        \n",
    "        self.sigma = 0.0  # source strength\n",
    "        self.vt = 0.0  # tangential velocity\n",
    "        self.cp = 0.0  # pressure coefficient\n",
    "        self.cl = 0.0 # lift coefficient\n",
    "        self.cd = 0.0 # drag coefficient\n",
    "        \n",
    "def define_panels(x, y, N):    \n",
    "    # create panels\n",
    "    panels = numpy.empty(N, dtype=object)\n",
    "    for i in range(N):\n",
    "        panels[i] = Panel(x[i], y[i], x[i + 1], y[i + 1])\n",
    "    \n",
    "    return panels\n",
    "\n",
    "class Freestream:\n",
    "    def __init__(self, u_inf=1.0, alpha=0.0):\n",
    "        self.u_inf = u_inf\n",
    "        self.alpha = numpy.radians(alpha)  # degrees to radians\n",
    "        \n",
    "def integral(x, y, panel, dxdk, dydk):\n",
    "    def integrand(s):\n",
    "        return (((x - (panel.xa - numpy.sin(panel.beta) * s)) * dxdk +\n",
    "                 (y - (panel.ya + numpy.cos(panel.beta) * s)) * dydk) /\n",
    "                ((x - (panel.xa - numpy.sin(panel.beta) * s))**2 +\n",
    "                 (y - (panel.ya + numpy.cos(panel.beta) * s))**2) )\n",
    "    return integrate.quad(integrand, 0.0, panel.length)[0]\n",
    "\n",
    "def source_contribution_normal(panels):\n",
    "    A = numpy.empty((panels.size, panels.size), dtype=float)\n",
    "    # source contribution on a panel from itself\n",
    "    numpy.fill_diagonal(A, 0.5)\n",
    "    # source contribution on a panel from others\n",
    "    for i, panel_i in enumerate(panels):\n",
    "        for j, panel_j in enumerate(panels):\n",
    "            if i != j:\n",
    "                A[i, j] = 0.5 / numpy.pi * integral(panel_i.xc, panel_i.yc, \n",
    "                                                    panel_j,\n",
    "                                                    numpy.cos(panel_i.beta),\n",
    "                                                    numpy.sin(panel_i.beta))\n",
    "    return A\n",
    "\n",
    "def vortex_contribution_normal(panels):\n",
    "    A = numpy.empty((panels.size, panels.size), dtype=float)\n",
    "    # vortex contribution on a panel from itself\n",
    "    numpy.fill_diagonal(A, 0.0)\n",
    "    # vortex contribution on a panel from others\n",
    "    for i, panel_i in enumerate(panels):\n",
    "        for j, panel_j in enumerate(panels):\n",
    "            if i != j:\n",
    "                A[i, j] = -0.5 / numpy.pi * integral(panel_i.xc, panel_i.yc, \n",
    "                                                     panel_j,\n",
    "                                                     numpy.sin(panel_i.beta),\n",
    "                                                     -numpy.cos(panel_i.beta))\n",
    "    return A\n",
    "\n",
    "def kutta_condition(A_source, B_vortex):\n",
    "    \n",
    "    b = numpy.empty(A_source.shape[0] + 1, dtype=float)\n",
    "    b[:-1] = B_vortex[0, :] + B_vortex[-1, :]\n",
    "    b[-1] = - numpy.sum(A_source[0, :] + A_source[-1, :])\n",
    "    return b\n",
    "\n",
    "def build_singularity_matrix(A_source, B_vortex):\n",
    "    \n",
    "    A = numpy.empty((A_source.shape[0] + 1, A_source.shape[1] + 1), dtype=float)\n",
    "    A[:-1, :-1] = A_source\n",
    "    A[:-1, -1] = numpy.sum(B_vortex, axis=1)\n",
    "    A[-1, :] = kutta_condition(A_source, B_vortex)\n",
    "    return A\n",
    "\n",
    "def build_freestream_rhs(panels, freestream):\n",
    "    \n",
    "    b = numpy.empty(panels.size + 1, dtype=float)\n",
    "    for i, panel in enumerate(panels):\n",
    "        b[i] = -freestream.u_inf * numpy.cos(freestream.alpha - panel.beta)\n",
    "    \n",
    "    b[-1] = -freestream.u_inf * (numpy.sin(freestream.alpha - panels[0].beta) +\n",
    "                                 numpy.sin(freestream.alpha - panels[-1].beta) )\n",
    "    return b\n",
    "\n",
    "def compute_tangential_velocity(panels, freestream, gamma, A_source, B_vortex):\n",
    "\n",
    "    A = numpy.empty((panels.size, panels.size + 1), dtype=float)\n",
    "    A[:, :-1] = B_vortex\n",
    "    A[:, -1] = -numpy.sum(A_source, axis=1)\n",
    "    b = freestream.u_inf * numpy.sin([freestream.alpha - panel.beta \n",
    "                                      for panel in panels])\n",
    "    \n",
    "    strengths = numpy.append([panel.sigma for panel in panels], gamma)\n",
    "    \n",
    "    tangential_velocities = numpy.dot(A, strengths) + b\n",
    "    \n",
    "    for i, panel in enumerate(panels):\n",
    "        panel.vt = tangential_velocities[i]\n",
    "        \n",
    "def compute_pressure_coefficient(panels, freestream):\n",
    "    \n",
    "    for panel in panels:\n",
    "        panel.cp = 1.0 - (panel.vt / freestream.u_inf)**2\n",
    "        \n",
    "def compute_lift_coefficient(panels):\n",
    "    for panel in panels:\n",
    "        panel.cl = - panel.cp * numpy.sin(panel.beta) * panel.length\n",
    "        \n",
    "def compute_drag_coefficient(panels):\n",
    "    for panel in panels:\n",
    "        panel.cd = panel.cp * numpy.cos(panel.beta) * panel.length\n",
    "\n",
    "        \n",
    "def calculate_Flow(x, y, u_inf = 1.0, alpha = 0.0):\n",
    "    \n",
    "    N = x.size - 1\n",
    "\n",
    "    freestream = Freestream(u_inf, alpha)\n",
    "    panels = define_panels(x, y, N)\n",
    "\n",
    "    ASource = source_contribution_normal(panels)\n",
    "    bVortex = vortex_contribution_normal(panels)\n",
    "\n",
    "    A = build_singularity_matrix(ASource, bVortex)\n",
    "    b = build_freestream_rhs(panels, freestream)\n",
    "\n",
    "    strength = numpy.linalg.solve(A, b)\n",
    "\n",
    "    for i, panel in enumerate(panels):\n",
    "        panel.sigma = strength[i]\n",
    "\n",
    "    gamma = strength[-1:]\n",
    "\n",
    "    compute_tangential_velocity(panels, freestream, gamma, ASource, bVortex)\n",
    "    compute_pressure_coefficient(panels, freestream)\n",
    "    compute_lift_coefficient(panels)\n",
    "    compute_drag_coefficient(panels)\n",
    "       \n",
    "    return panels, freestream, gamma"
   ]
  },
  {
   "cell_type": "code",
   "execution_count": 3,
   "metadata": {},
   "outputs": [],
   "source": [
    "Foil50X, Foil50Y = numpy.loadtxt('NACA64-206.csv', dtype=float, delimiter=',', unpack=True)"
   ]
  },
  {
   "cell_type": "code",
   "execution_count": 4,
   "metadata": {},
   "outputs": [
    {
     "name": "stdout",
     "output_type": "stream",
     "text": [
      "lift coefficient: CL =  [-0.72580504]\n"
     ]
    }
   ],
   "source": [
    "panels_u35_a4, freestream_u35_a4, gamma_u35_a4 = calculate_Flow(Foil50X, Foil50Y, u_inf = 3.55175, alpha = -8.0)\n",
    "\n",
    "c = abs(max(panel.xa for panel in panels_u35_a4) -\n",
    "        min(panel.xa for panel in panels_u35_a4))\n",
    "cl = (gamma_u35_a4 * sum(panel.length for panel in panels_u35_a4) /\n",
    "      (0.5 * freestream_u35_a4.u_inf * c))\n",
    "print('lift coefficient: CL = ', cl)"
   ]
  },
  {
   "cell_type": "code",
   "execution_count": 7,
   "metadata": {},
   "outputs": [
    {
     "name": "stdout",
     "output_type": "stream",
     "text": [
      "[-8.     -7.5625 -7.125  -6.6875 -6.25   -5.8125 -5.375  -4.9375 -4.5\n",
      " -4.0625 -3.625  -3.1875 -2.75   -2.3125 -1.875  -1.4375 -1.     -0.5625\n",
      " -0.125   0.3125  0.75    1.1875  1.625   2.0625  2.5     2.9375  3.375\n",
      "  3.8125  4.25    4.6875  5.125   5.5625  6.    ]\n"
     ]
    }
   ],
   "source": [
    "alphaList = numpy.linspace(-8.0, 6.0, 33)\n",
    "print(alphaList)\n",
    "cl = numpy.empty_like(alphaList)\n",
    "u_inf = 3.55175 \n",
    "\n",
    "for i in range(0, len(alphaList)):\n",
    "    panels, freestream, gamma = calculate_Flow(Foil50X, Foil50Y, u_inf, alpha = alphaList[i])\n",
    "    \n",
    "    c = abs(max(panel.xa for panel in panels) - min(panel.xa for panel in panels))\n",
    "    cl[i] = (gamma * sum(panel.length for panel in panels) / (0.5 * freestream.u_inf * c))"
   ]
  },
  {
   "cell_type": "code",
   "execution_count": 10,
   "metadata": {},
   "outputs": [
    {
     "data": {
      "image/png": "[encoded data removed]",
      "text/plain": [
       "<Figure size 432x288 with 1 Axes>"
      ]
     },
     "metadata": {
      "needs_background": "light"
     },
     "output_type": "display_data"
    }
   ],
   "source": [
    "pyplot.plot(alphaList, cl)\n",
    "pyplot.xlim(-10.0, 8.0)\n",
    "pyplot.ylim(-1.0, 1.0)\n",
    "pyplot.xticks(numpy.arange(-10.0, 10.0, step=2.0))\n",
    "pyplot.yticks(numpy.arange(-0.8, 1.0, step=0.2))\n",
    "pyplot.grid()"
   ]
  },
  {
   "cell_type": "code",
   "execution_count": null,
   "metadata": {},
   "outputs": [],
   "source": [
    "pyplot.plot([panel.cl for panel in panels_u35_a4 if panel.loc == 'upper'], \n",
    "            [panel.cd for panel in panels_u35_a4 if panel.loc == 'upper'])\n",
    "\n",
    "pyplot.plot([panel.cl for panel in panels_u35_a4 if panel.loc == 'lower'], \n",
    "            [panel.cd for panel in panels_u35_a4 if panel.loc == 'lower'])"
   ]
  },
  {
   "cell_type": "code",
   "execution_count": null,
   "metadata": {},
   "outputs": [],
   "source": [
    "pyplot.plot([panel.xc for panel in panels_u35_a4 if panel.loc == 'upper'],\n",
    "            [panel.cp for panel in panels_u35_a4 if panel.loc == 'upper'],\n",
    "            label='upper',\n",
    "            color='r', linewidth=1, marker='x', markersize=8)\n",
    "pyplot.plot([panel.xc for panel in panels_u35_a4 if panel.loc == 'lower'],\n",
    "            [panel.cp for panel in panels_u35_a4 if panel.loc == 'lower'],\n",
    "            label='lower',\n",
    "            color='b', linewidth=0, marker='d', markersize=6)"
   ]
  },
  {
   "cell_type": "code",
   "execution_count": null,
   "metadata": {},
   "outputs": [],
   "source": [
    "# nx, ny = 50, 50 \n",
    "# x_start, x_end = -0.5, 1.5\n",
    "# y_start, y_end = -0.1, 0.1\n",
    "# X, Y = numpy.meshgrid(numpy.linspace(x_start, x_end, nx),\n",
    "#                       numpy.linspace(y_start, y_end, ny))\n",
    "\n",
    "# u, v = get_velocity_field(panels_u35_a4, freestream, X, Y)\n",
    "\n",
    "width = 20\n",
    "pyplot.figure(figsize=(width, width))\n",
    "pyplot.xlabel('x', fontsize=16)\n",
    "pyplot.ylabel('y', fontsize=16)\n",
    "pyplot.streamplot(X, Y, u_u35_a4, v_u35_a4,\n",
    "                  density=2, linewidth=1, arrowsize=1, arrowstyle='->')\n",
    "pyplot.fill([panel.xc for panel in panels_u35_a4],\n",
    "            [panel.yc for panel in panels_u35_a4],\n",
    "            color='k', linestyle='solid', linewidth=2, zorder=2)\n",
    "pyplot.axis('scaled', adjustable='box')\n",
    "pyplot.xlim(-0.5, 1.5)\n",
    "pyplot.ylim(-0.1, 0.1)\n",
    "pyplot.title('Streamlines around a NACA 64-206 airfoil (AoA = ${}^o$)'.format(alpha),\n",
    "             fontsize=16);"
   ]
  },
  {
   "cell_type": "code",
   "execution_count": null,
   "metadata": {},
   "outputs": [],
   "source": [
    "width = 10\n",
    "pyplot.figure(figsize=(width, width))\n",
    "pyplot.grid()\n",
    "pyplot.xlabel('x', fontsize=16)\n",
    "pyplot.ylabel('y', fontsize=16)\n",
    "pyplot.plot(Foil50X, Foil50Y, color='k', linestyle='-', linewidth=2)\n",
    "pyplot.plot(numpy.append([panel.xa for panel in panels], panels[0].xa),\n",
    "            numpy.append([panel.ya for panel in panels], panels[0].ya),\n",
    "            linestyle='-', linewidth=1, marker='o', markersize=6, color='#CD2305')\n",
    "pyplot.axis('scaled', adjustable='box')\n",
    "pyplot.xlim(-0.1, 1.1)\n",
    "pyplot.ylim(-0.1, 0.1);"
   ]
  },
  {
   "cell_type": "code",
   "execution_count": null,
   "metadata": {},
   "outputs": [],
   "source": []
  }
 ],
 "metadata": {
  "kernelspec": {
   "display_name": "Python 3",
   "language": "python",
   "name": "python3"
  },
  "language_info": {
   "codemirror_mode": {
    "name": "ipython",
    "version": 3
   },
   "file_extension": ".py",
   "mimetype": "text/x-python",
   "name": "python",
   "nbconvert_exporter": "python",
   "pygments_lexer": "ipython3",
   "version": "3.7.3"
  }
 },
 "nbformat": 4,
 "nbformat_minor": 2
}
