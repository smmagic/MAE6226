{
 "cells": [
  {
   "cell_type": "markdown",
   "metadata": {},
   "source": [
    "<div style=\"text-align: right\"> Name: Alexander Snouffer"
   ]
  },
  {
   "cell_type": "markdown",
   "metadata": {},
   "source": [
    "#  <center>                                          Homework 3 - Due Date: 23/04/2020\n",
    "   "
   ]
  },
  {
   "cell_type": "markdown",
   "metadata": {},
   "source": [
    "## <center> 2D Multi-element airfoil"
   ]
  },
  {
   "cell_type": "markdown",
   "metadata": {},
   "source": [
    "This is your [_AeroPython_](https://github.com/barbagroup/AeroPython) assignment for the fourth course module, titled **\"Vortex-panel method for lifting bodies.\"** You will investigate a 2D multi-element airfoil, or wing section with extended flap, adapting the source-vortex panel method of [Lesson 11](11_Lesson11_vortexSourcePanelMethod.ipynb) to compute the flow around two airfoils. \n",
    "\n",
    "The key concepts for using the vortex-source panel method with a multi-element airfoil are:\n",
    "\n",
    "1. each airfoil has its own vortex strength, and\n",
    "2. the trailing edge at each airfoil must follow the Kutta condition.\n",
    "\n",
    "In the first part of the assignment, you will use a test for which we have a theoretical solution, due to Williams (1973). Have a look at the reference, and get a feel for its mathematical genius! In the second part, you will use a more popular airfoil (the NACA 23012) for both the main wing section and the flap. For this case, there is an old classic NACA report by Wenzinger (1938) giving data from experiments in a wind tunnel. This exercise will get you wondering about some very interesting aerodynamical questions!"
   ]
  },
  {
   "cell_type": "markdown",
   "metadata": {},
   "source": [
    "## Part 1: Williams' test case"
   ]
  },
  {
   "cell_type": "markdown",
   "metadata": {},
   "source": [
    "Your task is to calculate the pressure coefficient on a multi-element wing section, consisting of a *main airfoil* and an *external-airfoil flap*. This test is from Williams (1973), who obtained a beautiful theoretical solution using the techniques of conformal mapping.\n",
    "\n",
    "The profile of the wing section looks like this, with flap extended:\n",
    "<center> <img src=\"MultiElementAirfoil.png\" width=\"500\"> </center>\n",
    "\n",
    "We provide CSV files with the $x$ and $y$ coordinates for the end nodes of each panel. The files have the following naming convention, where `***` represents the value of `N`, the number of panels: `MainFoil_N=***.csv`, `FlapFoil_N=***.csv`.\n",
    "\n",
    "You can use fewer panels for debugging while developing your codes and then use more panels for more serious calculations when answering the questions in this assignment.\n",
    "\n",
    "There are also two files named `Cp_Main_theoretical.csv` and `Cp_Flap_theoretical.csv` containing the theoretical values of pressure coefficient versus $x$-coordinates, for the flap configuration we give you in the data files (a $30$º flap deflection, with the main airfoil at $0$º angle of attack).\n",
    "\n",
    "The theoretical lift and drag force for potential flow over this 2D wing section with zero angle of attack are $3.7386$ and $0$, respectively (non-dimensionalized by dynamic pressure).\n"
   ]
  },
  {
   "cell_type": "markdown",
   "metadata": {},
   "source": [
    "### Hints"
   ]
  },
  {
   "cell_type": "markdown",
   "metadata": {},
   "source": [
    "Recall the [exercise in Lesson 11](11_Lesson11_Exercise.ipynb), which asks you to derive the mathematical formulation of the vortex-source panel method. \n",
    "\n",
    "Now, for the 2-element airfoil, you need to derive the required mathematical expressions, following the same process as in the exercise, starting from the following expression for the potential:\n",
    "\n",
    "$$\n",
    "\\begin{split}\n",
    "\\phi(x, y) &= U_{\\infty}x\\cos\\alpha + U_{\\infty}y\\sin\\alpha \\\\\n",
    "& + \\int_{main} \\frac{1}{2\\pi} \\sigma(s) \\ln \\sqrt{(x-\\xi(s))^2+(y-\\eta(s))^2} ds  \\\\\n",
    "& + \\int_{flap} \\frac{1}{2\\pi} \\sigma(s) \\ln \\sqrt{(x-\\xi(s))^2+(y-\\eta(s))^2} ds \\\\\n",
    "& - \\int_{main} \\frac{1}{2\\pi} \\gamma(s) \\tan^{-1} \\frac{y-\\eta(s)}{x-\\xi(s)} ds  \\\\\n",
    "& - \\int_{flap} \\frac{1}{2\\pi} \\gamma(s) \\tan^{-1} \\frac{y-\\eta(s)}{x-\\xi(s)} ds\n",
    "\\end{split}\n",
    "$$\n",
    "\n",
    "Assume the following:\n",
    "\n",
    "1. $\\sigma(s)$ is constant on each panel, \n",
    "2. $\\gamma(s)$ is constant on each airfoil, and\n",
    "3. the 1<sup>st</sup> to $N_a$<sup>th</sup> panels are on the main airfoil and the $(N_a+1)$<sup>th</sup> to $N$<sup>th</sup> panels are on the flap (where $N=N_a+N_b$, and $N_b$ is the number of panels on the flap).\n",
    "\n",
    "There will be $N+2$ unknowns, that is, $\\sigma_1\\cdots\\sigma_N$, $\\gamma_a$, and $\\gamma_b$. The values of $\\gamma_a$, and $\\gamma_b$ represent the vortex strengths on the main and flap airfoils, respectively.\n",
    "\n",
    "You should be able to obtain the following matrix forms of normal and tangential velocity on the $i$<sup>th</sup> panel:\n",
    "\n",
    "$$\n",
    "U^n_i = b^n_i + \n",
    "\\left[\\begin{smallmatrix}A^n_{i1}\\cdots A^n_{iN}\\end{smallmatrix}, \\sum_{j=1}^{N_a}B^n_{ij}, \\sum_{j=N_a+1}^{N}B^n_{ij}\\right]\n",
    "\\left[\\begin{smallmatrix}\\sigma_1 \\\\ \\vdots \\\\ \\sigma_N \\\\ \\gamma_a \\\\ \\gamma_b\\end{smallmatrix}\\right]\n",
    "$$\n",
    "\n",
    "$$\n",
    "U^t_i = b^t_i + \n",
    "\\left[\\begin{smallmatrix}A^t_{i1}\\cdots A^t_{iN}\\end{smallmatrix}, \\sum_{j=1}^{N_a}B^t_{ij}, \\sum_{j=N_a+1}^{N}B^t_{ij}\\right]\n",
    "\\left[\\begin{smallmatrix}\\sigma_1 \\\\ \\vdots \\\\ \\sigma_N \\\\ \\gamma_a \\\\ \\gamma_b\\end{smallmatrix}\\right]\n",
    "$$\n",
    "\n",
    "Using the non-penetration conditions on the $1$<sup>st</sup> to $N$<sup>th</sup> panels, you will have $N$ linear equations. To solve for the $N+2$ unknowns, the extra two linear equations you need are the Kutta conditions on the two airfoils:\n",
    "\n",
    "$$\n",
    "U^t_{1} = U^t_{N_a} \\\\\n",
    "U^t_{N_a+1} = U^t_{N}\n",
    "$$\n",
    "\n",
    "And you are ready to solve for potential flow around a 2D multi-component wing!"
   ]
  },
  {
   "cell_type": "code",
   "execution_count": 1,
   "metadata": {},
   "outputs": [],
   "source": [
    "import numpy\n",
    "import math\n",
    "from scipy import integrate, linalg\n",
    "from matplotlib import pyplot\n",
    "%matplotlib inline"
   ]
  },
  {
   "cell_type": "code",
   "execution_count": 2,
   "metadata": {},
   "outputs": [],
   "source": [
    "mFoil50X, mFoil50Y = numpy.loadtxt('MainFoil_N=50.csv', dtype=float, delimiter=',', unpack=True)\n",
    "mFoil100X, mFoil100Y = numpy.loadtxt('MainFoil_N=100.csv', dtype=float, delimiter=',', unpack=True)\n",
    "mFoil150X, mFoil150Y = numpy.loadtxt('MainFoil_N=150.csv', dtype=float, delimiter=',', unpack=True)\n",
    "mFoil200X, mFoil200Y = numpy.loadtxt('MainFoil_N=200.csv', dtype=float, delimiter=',', unpack=True)\n",
    "mFoil250X, mFoil250Y = numpy.loadtxt('MainFoil_N=250.csv', dtype=float, delimiter=',', unpack=True)\n",
    "mFoil300X, mFoil300Y = numpy.loadtxt('MainFoil_N=300.csv', dtype=float, delimiter=',', unpack=True)\n",
    "\n",
    "fFoil50X, fFoil50Y = numpy.loadtxt('FlapFoil_N=50.csv', dtype=float, delimiter=',', unpack=True)\n",
    "fFoil100X, fFoil100Y = numpy.loadtxt('FlapFoil_N=100.csv', dtype=float, delimiter=',', unpack=True)\n",
    "fFoil150X, fFoil150Y = numpy.loadtxt('FlapFoil_N=150.csv', dtype=float, delimiter=',', unpack=True)\n",
    "fFoil200X, fFoil200Y = numpy.loadtxt('FlapFoil_N=200.csv', dtype=float, delimiter=',', unpack=True)\n",
    "fFoil250X, fFoil250Y = numpy.loadtxt('FlapFoil_N=250.csv', dtype=float, delimiter=',', unpack=True)\n",
    "fFoil300X, fFoil300Y = numpy.loadtxt('FlapFoil_N=300.csv', dtype=float, delimiter=',', unpack=True)"
   ]
  },
  {
   "cell_type": "code",
   "execution_count": 3,
   "metadata": {},
   "outputs": [],
   "source": [
    "class Panel:\n",
    "    def __init__(self, xa, ya, xb, yb):\n",
    "        self.xa, self.ya = xa, ya  # panel starting-point\n",
    "        self.xb, self.yb = xb, yb  # panel ending-point\n",
    "        \n",
    "        self.xc, self.yc = (xa + xb) / 2, (ya + yb) / 2  # panel center\n",
    "        self.length = numpy.sqrt((xb - xa)**2 + (yb - ya)**2)  # panel length\n",
    "        \n",
    "        # orientation of panel (angle between x-axis and panel's normal)\n",
    "        if xb - xa <= 0.0:\n",
    "            self.beta = numpy.arccos((yb - ya) / self.length)\n",
    "        elif xb - xa > 0.0:\n",
    "            self.beta = numpy.pi + numpy.arccos(-(yb - ya) / self.length)\n",
    "        \n",
    "        # panel location\n",
    "        if self.beta <= numpy.pi:\n",
    "            self.loc = 'upper'  # upper surface\n",
    "        else:\n",
    "            self.loc = 'lower'  # lower surface\n",
    "        \n",
    "        self.sigma = 0.0  # source strength\n",
    "        self.vt = 0.0  # tangential velocity\n",
    "        self.cp = 0.0  # pressure coefficient\n",
    "      \n",
    "def define_panels(x, y, N):    \n",
    "    # create panels\n",
    "    panels = numpy.empty(N, dtype=object)\n",
    "    for i in range(N):\n",
    "        panels[i] = Panel(x[i], y[i], x[i + 1], y[i + 1])\n",
    "    \n",
    "    return panels\n",
    "\n",
    "class Freestream:\n",
    "    def __init__(self, u_inf=1.0, alpha=0.0):\n",
    "        self.u_inf = u_inf\n",
    "        self.alpha = numpy.radians(alpha)  # degrees to radians\n",
    "        \n",
    "def integral(x, y, panel, dxdk, dydk):\n",
    "    def integrand(s):\n",
    "        return (((x - (panel.xa - numpy.sin(panel.beta) * s)) * dxdk +\n",
    "                 (y - (panel.ya + numpy.cos(panel.beta) * s)) * dydk) /\n",
    "                ((x - (panel.xa - numpy.sin(panel.beta) * s))**2 +\n",
    "                 (y - (panel.ya + numpy.cos(panel.beta) * s))**2) )\n",
    "    return integrate.quad(integrand, 0.0, panel.length)[0]\n",
    "\n",
    "def source_contribution_normal(panels):\n",
    "    A = numpy.empty((panels.size, panels.size), dtype=float)\n",
    "    # source contribution on a panel from itself\n",
    "    numpy.fill_diagonal(A, 0.5)\n",
    "    # source contribution on a panel from others\n",
    "    for i, panel_i in enumerate(panels):\n",
    "        for j, panel_j in enumerate(panels):\n",
    "            if i != j:\n",
    "                A[i, j] = 0.5 / numpy.pi * integral(panel_i.xc, panel_i.yc, \n",
    "                                                    panel_j,\n",
    "                                                    numpy.cos(panel_i.beta),\n",
    "                                                    numpy.sin(panel_i.beta))\n",
    "    return A\n",
    "\n",
    "def vortex_contribution_normal(panels):\n",
    "    A = numpy.empty((panels.size, panels.size), dtype=float)\n",
    "    # vortex contribution on a panel from itself\n",
    "    numpy.fill_diagonal(A, 0.0)\n",
    "    # vortex contribution on a panel from others\n",
    "    for i, panel_i in enumerate(panels):\n",
    "        for j, panel_j in enumerate(panels):\n",
    "            if i != j:\n",
    "                A[i, j] = -0.5 / numpy.pi * integral(panel_i.xc, panel_i.yc, \n",
    "                                                     panel_j,\n",
    "                                                     numpy.sin(panel_i.beta),\n",
    "                                                     -numpy.cos(panel_i.beta))\n",
    "    return A\n",
    "\n",
    "def kutta_condition(A_source, B_vortex, N):\n",
    "    \n",
    "    b = numpy.empty((2, A_source.shape[0] + 2), dtype=float)\n",
    "    kutta = numpy.empty((A_source.shape[0], A_source.shape[0] + 2), dtype=float)\n",
    "    \n",
    "    kutta[:, :-2] = B_vortex\n",
    "    kutta[:, -2] = -numpy.sum(A_source[:, :N], axis=1)\n",
    "    kutta[:, -1] = -numpy.sum(A_source[:, N:], axis=1)\n",
    "    \n",
    "    b[0, :] = kutta[0, :] + kutta[N - 1, :]\n",
    "    b[1, :] = kutta[N, :] + kutta[-1, :]\n",
    "    return b\n",
    "\n",
    "def build_singularity_matrix(A_source, B_vortex, N):\n",
    "    \n",
    "    A = numpy.empty((A_source.shape[0] + 2, A_source.shape[1] + 2), dtype=float)\n",
    "    A[:-2, :-2] = A_source\n",
    "    A[:-2, -2] = numpy.sum(B_vortex[:, :N], axis=1)\n",
    "    A[:-2, -1] = numpy.sum(B_vortex[:, N:], axis=1)\n",
    "    A[-2:, :] = kutta_condition(A_source, B_vortex, N)\n",
    "    return A\n",
    "\n",
    "def build_freestream_rhs(panels, freestream, N):\n",
    "    \n",
    "    b = numpy.empty(panels.size + 2, dtype=float)\n",
    "    \n",
    "    for i, panel in enumerate(panels):\n",
    "        b[i] = -freestream.u_inf * numpy.cos(freestream.alpha - panel.beta)\n",
    "    \n",
    "    b[-2] = -freestream.u_inf * (numpy.sin(freestream.alpha - panels[0].beta) +\n",
    "                                 numpy.sin(freestream.alpha - panels[N - 1].beta) )\n",
    "    b[-1] = -freestream.u_inf * (numpy.sin(freestream.alpha - panels[N].beta) +\n",
    "                                 numpy.sin(freestream.alpha - panels[-1].beta) )\n",
    "    return b\n",
    "\n",
    "def compute_tangential_velocity(panels, freestream, gamma, A_source, B_vortex):\n",
    "\n",
    "    A = numpy.empty((panels.size, panels.size + 2), dtype=float)\n",
    "    \n",
    "    A[:, :-2] = B_vortex\n",
    "    A[:, -2] = -numpy.sum(A_source[:, :N], axis=1)\n",
    "    A[:, -1] = -numpy.sum(A_source[:, N:], axis=1)\n",
    "    b = freestream.u_inf * numpy.sin([freestream.alpha - panel.beta \n",
    "                                      for panel in panels])\n",
    "    \n",
    "    strengths = numpy.append([panel.sigma for panel in panels], gamma)\n",
    "    \n",
    "    tangential_velocities = numpy.dot(A, strengths) + b\n",
    "    \n",
    "    for i, panel in enumerate(panels):\n",
    "        panel.vt = tangential_velocities[i]\n",
    "      \n",
    "def compute_pressure_coefficient(panels, freestream):\n",
    "    \n",
    "    for panel in panels:\n",
    "        panel.cp = 1.0 - (panel.vt / freestream.u_inf)**2"
   ]
  },
  {
   "cell_type": "code",
   "execution_count": 4,
   "metadata": {},
   "outputs": [],
   "source": [
    "N = fFoil100X.size - 1\n",
    "\n",
    "u_inf = 1.0\n",
    "alpha = 0.0\n",
    "\n",
    "freestream = Freestream(u_inf, alpha)\n",
    "mPanels = define_panels(mFoil100X, mFoil100Y, N)\n",
    "fPanels = define_panels(fFoil100X, fFoil100Y, N)\n",
    "\n",
    "panels = numpy.append(mPanels, fPanels)\n",
    "\n",
    "ASource = source_contribution_normal(panels)\n",
    "bVortex = vortex_contribution_normal(panels)\n",
    "\n",
    "A = build_singularity_matrix(ASource, bVortex, N)\n",
    "b = build_freestream_rhs(panels, freestream, N)\n",
    "\n",
    "strength = numpy.linalg.solve(A, b)\n",
    "\n",
    "for i, panel in enumerate(panels):\n",
    "    panel.sigma = strength[i]\n",
    "    \n",
    "gamma = strength[-2:]\n",
    "\n",
    "compute_tangential_velocity(panels, freestream, gamma, ASource, bVortex)\n",
    "compute_pressure_coefficient(panels, freestream)"
   ]
  },
  {
   "cell_type": "code",
   "execution_count": 5,
   "metadata": {},
   "outputs": [],
   "source": [
    "xMainCPTheo, yMainCPTheo = numpy.loadtxt('Cp_Main_theoretical.csv', dtype=float, delimiter=',', unpack=True)\n",
    "xFlapCPTheo, yFlapCPTheo = numpy.loadtxt('Cp_Flap_theoretical.csv', dtype=float, delimiter=',', unpack=True)"
   ]
  },
  {
   "cell_type": "code",
   "execution_count": 6,
   "metadata": {},
   "outputs": [
    {
     "data": {
      "image/png": "[encoded data removed]",
      "text/plain": [
       "<Figure size 432x288 with 1 Axes>"
      ]
     },
     "metadata": {
      "needs_background": "light"
     },
     "output_type": "display_data"
    }
   ],
   "source": [
    "pyplot.grid()\n",
    "pyplot.xlabel('$x$', fontsize=16)\n",
    "pyplot.ylabel('$C_p$', fontsize=16)\n",
    "\n",
    "\n",
    "pyplot.plot(xMainCPTheo, yMainCPTheo, label='Main Theoretical', linestyle='-', color='g')\n",
    "pyplot.plot(xFlapCPTheo, yFlapCPTheo, label='Flap Theoretical', linestyle='-', color='k')\n",
    "\n",
    "pyplot.plot([panel.xc for panel in panels if panel.loc == 'upper'],\n",
    "            [panel.cp for panel in panels if panel.loc == 'upper'],\n",
    "            label='upper',\n",
    "            color='r', linewidth=1, marker='x', markersize=8)\n",
    "pyplot.plot([panel.xc for panel in panels if panel.loc == 'lower'],\n",
    "            [panel.cp for panel in panels if panel.loc == 'lower'],\n",
    "            label='lower',\n",
    "            color='b', linewidth=0, marker='d', markersize=6)\n",
    "\n",
    "pyplot.legend(loc='best', prop={'size':16});\n",
    "pyplot.xlim(-0.1, 1.5);\n",
    "pyplot.ylim(-1.0, -15.0);"
   ]
  },
  {
   "cell_type": "markdown",
   "metadata": {},
   "source": [
    "##### Questions"
   ]
  },
  {
   "cell_type": "markdown",
   "metadata": {},
   "source": [
    "Run your codes using 100 panels on both main and flap airfoils and answer the following numeric-value questions."
   ]
  },
  {
   "cell_type": "markdown",
   "metadata": {},
   "source": [
    "### Q1."
   ]
  },
  {
   "cell_type": "markdown",
   "metadata": {},
   "source": [
    "* What is the pressure coefficient on the $3$<sup>rd</sup> panel on the *main airfoil*?"
   ]
  },
  {
   "cell_type": "code",
   "execution_count": 7,
   "metadata": {},
   "outputs": [
    {
     "name": "stdout",
     "output_type": "stream",
     "text": [
      "The Pressure Coefficient on the 3rd Panel on the Main Foil is:  -0.956\n"
     ]
    }
   ],
   "source": [
    "print('The Pressure Coefficient on the 3rd Panel on the Main Foil is: ', numpy.round(panels[2].cp, 3))"
   ]
  },
  {
   "cell_type": "markdown",
   "metadata": {},
   "source": [
    "### Q2."
   ]
  },
  {
   "cell_type": "markdown",
   "metadata": {},
   "source": [
    "* What is the pressure coefficient on the $10$<sup>th</sup> panel on the *flap airfoil*?"
   ]
  },
  {
   "cell_type": "code",
   "execution_count": 8,
   "metadata": {},
   "outputs": [
    {
     "name": "stdout",
     "output_type": "stream",
     "text": [
      "The Pressure Coefficient on the 10th Panel on the Flap is:  -0.28\n"
     ]
    }
   ],
   "source": [
    "print('The Pressure Coefficient on the 10th Panel on the Flap is: ', numpy.round(panels[N+9].cp, 3))"
   ]
  },
  {
   "cell_type": "markdown",
   "metadata": {},
   "source": [
    "### Q3."
   ]
  },
  {
   "cell_type": "markdown",
   "metadata": {},
   "source": [
    "* What is the value of lift?\n",
    "\n",
    "\n",
    "**Hint:**  $~L = - \\oint_{main}p\\vec{n}\\cdot\\vec{j}dl- \\oint_{flap}p\\vec{n}\\cdot\\vec{j}dl$"
   ]
  },
  {
   "cell_type": "code",
   "execution_count": 9,
   "metadata": {},
   "outputs": [
    {
     "name": "stdout",
     "output_type": "stream",
     "text": [
      "The Lift is:  3.698\n"
     ]
    }
   ],
   "source": [
    "lift = 0\n",
    "\n",
    "for panel in panels:\n",
    "    lift = lift - panel.cp * numpy.sin(panel.beta) * panel.length\n",
    "\n",
    "print('The Lift is: ', numpy.round(lift, 3))"
   ]
  },
  {
   "cell_type": "markdown",
   "metadata": {},
   "source": [
    "### Q4."
   ]
  },
  {
   "cell_type": "markdown",
   "metadata": {},
   "source": [
    "* What is the value of drag?  "
   ]
  },
  {
   "cell_type": "code",
   "execution_count": 10,
   "metadata": {},
   "outputs": [
    {
     "name": "stdout",
     "output_type": "stream",
     "text": [
      "The Drag is:  0.011\n"
     ]
    }
   ],
   "source": [
    "drag = 0\n",
    "\n",
    "for panel in panels:\n",
    "    drag = drag + panel.cp * numpy.cos(panel.beta) * panel.length\n",
    "\n",
    "print('The Drag is: ', numpy.round(drag, 3))"
   ]
  },
  {
   "cell_type": "markdown",
   "metadata": {},
   "source": [
    "### Q5."
   ]
  },
  {
   "cell_type": "markdown",
   "metadata": {},
   "source": [
    "* Run the program again with 200 panels on both main and flap airfoils. What is the percentage of improvement of the absolute error in the value of lift?"
   ]
  },
  {
   "cell_type": "code",
   "execution_count": 11,
   "metadata": {},
   "outputs": [
    {
     "name": "stdout",
     "output_type": "stream",
     "text": [
      "The precentage of Improvement is:  50.677 %\n"
     ]
    }
   ],
   "source": [
    "N = fFoil200X.size - 1\n",
    "\n",
    "u_inf = 1.0\n",
    "alpha = 0.0\n",
    "\n",
    "freestream = Freestream(u_inf, alpha)\n",
    "mPanels = define_panels(mFoil200X, mFoil200Y, N)\n",
    "fPanels = define_panels(fFoil200X, fFoil200Y, N)\n",
    "\n",
    "panels = numpy.append(mPanels, fPanels)\n",
    "\n",
    "ASource = source_contribution_normal(panels)\n",
    "bVortex = vortex_contribution_normal(panels)\n",
    "\n",
    "A = build_singularity_matrix(ASource, bVortex, N)\n",
    "b = build_freestream_rhs(panels, freestream, N)\n",
    "\n",
    "strength = numpy.linalg.solve(A, b)\n",
    "\n",
    "for i, panel in enumerate(panels):\n",
    "    panel.sigma = strength[i]\n",
    "    \n",
    "gamma = strength[-2:]\n",
    "\n",
    "compute_tangential_velocity(panels, freestream, gamma, ASource, bVortex)\n",
    "compute_pressure_coefficient(panels, freestream)\n",
    "\n",
    "lift200 = 0.0\n",
    "\n",
    "for panel in panels:\n",
    "    lift200 = lift200 - panel.cp * numpy.sin(panel.beta) * panel.length\n",
    "\n",
    "liftTheoretical = 3.7386\n",
    "err200 = numpy.abs(liftTheoretical - lift200)\n",
    "err100 = numpy.abs(liftTheoretical - lift)\n",
    "impro = numpy.abs(err200 - err100)/err100\n",
    "impro = impro * 100\n",
    "\n",
    "print('The precentage of Improvement is: ', numpy.round(impro, 3), '%')"
   ]
  },
  {
   "cell_type": "markdown",
   "metadata": {},
   "source": [
    "## Part 2: Wenzinger's test case"
   ]
  },
  {
   "cell_type": "markdown",
   "metadata": {},
   "source": [
    "You should now have a usable panel solver for 2-component airfoils. Next, you'll change the target airfoil to a more realistic profile. There are experimental results available (Wenzinger, 1938) for a NACA 23012 airfoil with a NACA23012 external-airfoil flap, which we'll compare with.\n",
    "\n",
    "The following figure shows the profile of this wing section with 0º flap angle:\n",
    "\n",
    "<center><img src=\"NACA23012withFlap.png\" width=500> </center>\n",
    "\n",
    "We provide CSV files for the endpoints of a panel discretization of this wing section, using 150 panels on each airfoil: `NACA23012_MainFoil.csv` and `NACA23012_FlapFoil.csv`.\n",
    "\n",
    "The flap has a rotating center (hinge) at the location $(1.03, -0.054)$ (see the configuration on Figure 1 of the reference). Using coordinate rotation, you can obtain different configurations with different flap deflection angles.\n",
    "\n",
    "Try to use different flap deflection angles and different angles of attack (of the main airfoil) and compare to Wenzinger's experimental results. Note that the definition of the total lift coefficient is $L/(l_{main}+l_{flap})$, where $L$ is the lift force (per unit span) like in the previous problem, and $l_{main}$ and $l_{flap}$ are the chord lengths of the two airfoils. **Think about what could be the sources of difference between your results and the experimental data**."
   ]
  },
  {
   "cell_type": "code",
   "execution_count": 12,
   "metadata": {},
   "outputs": [],
   "source": [
    "def flapAOA(xc, yc, x, y, AoA):\n",
    "    AoA_rad = numpy.radians(AoA)\n",
    "    \n",
    "    xR = xc + (x - xc) * numpy.cos(AoA_rad) + (y - yc) * numpy.sin(AoA_rad)\n",
    "    yR = yc - (x - xc) * numpy.sin(AoA_rad) + (y - yc) * numpy.cos(AoA_rad)\n",
    "    \n",
    "    return xR, yR\n",
    "\n",
    "def liftCalc(panels, u_inf, alpha,  N):\n",
    "    \n",
    "    freestream = Freestream(u_inf, alpha)\n",
    "    \n",
    "    ASource = source_contribution_normal(panels)\n",
    "    bVortex = vortex_contribution_normal(panels)\n",
    "\n",
    "    A = build_singularity_matrix(ASource, bVortex, N)\n",
    "    b = build_freestream_rhs(panels, freestream, N)\n",
    "\n",
    "    strength = numpy.linalg.solve(A, b)\n",
    "\n",
    "    for i, panel in enumerate(panels):\n",
    "        panel.sigma = strength[i]\n",
    "\n",
    "    gamma = strength[-2:]\n",
    "\n",
    "    compute_tangential_velocity(panels, freestream, gamma, ASource, bVortex)\n",
    "    compute_pressure_coefficient(panels, freestream)\n",
    "    \n",
    "    lift = 0.0\n",
    "    \n",
    "    for panel in panels: \n",
    "        lift = lift - panel.cp * numpy.sin(panel.beta) * panel.length\n",
    "        \n",
    "    drag = 0\n",
    "\n",
    "    for panel in panels:\n",
    "        drag = drag + panel.cp * numpy.cos(panel.beta) * panel.length\n",
    "        \n",
    "    return lift, drag\n",
    "\n",
    "def bisection(panels, u_inf, alpha, N, maxIteration, rangeLower, rangeUpper,tolerance):\n",
    "    \n",
    "    liftCalcHold, _ = liftCalc(panels, u_inf, alpha, N)\n",
    "    \n",
    "    iteration = 0\n",
    "    \n",
    "    while iteration < maxIteration:\n",
    "        alpha = (rangeUpper + rangeLower) / 2\n",
    "        liftGuess, _ = liftCalc(panels, u_inf, alpha, N)\n",
    "        \n",
    "        print(iteration, alpha, liftGuess)\n",
    "        \n",
    "        if numpy.abs(rangeUpper - rangeLower) / 2 < tolerance:\n",
    "            break\n",
    "            \n",
    "        if numpy.sign(liftGuess) == numpy.sign(liftCalcHold):\n",
    "            rangeUpper = alpha\n",
    "            liftCalcHold = liftGuess\n",
    "            \n",
    "        else: \n",
    "            rangeLower = alpha\n",
    "            \n",
    "        iteration = iteration + 1\n",
    "        \n",
    "    return alpha\n",
    "    \n",
    "def bisectionFlap(xMain, yMain, xFlap, yFlap, xC, yC, u_inf, alpha, N, maxIteration, rangeLower, rangeUpper, tolerance):\n",
    "    \n",
    "    xFlapHold, yFlapHold = flapAOA(xC, yC, xFlap, yFlap, 0.0)\n",
    "\n",
    "    mPanels = define_panels(xMain, yMain, N)\n",
    "    fPanels = define_panels(xFlapHold, yFlapHold, N)\n",
    "\n",
    "    panels = numpy.append(mPanels, fPanels)\n",
    "    \n",
    "    liftCalcHold, _ = liftCalc(panels, u_inf, alpha, N)\n",
    "    \n",
    "    iteration = 0\n",
    "    \n",
    "    while iteration < maxIteration:\n",
    "        \n",
    "        alphaFlap = (rangeUpper + rangeLower) / 2\n",
    "        \n",
    "        xFlapGuess, yFlapGuess = flapAOA(xC, yC, xFlap, yFlap, alphaFlap)\n",
    "\n",
    "        mPanels = define_panels(xMain, yMain, N)\n",
    "        fPanels = define_panels(xFlapGuess, yFlapGuess, N)\n",
    "\n",
    "        panels = numpy.append(mPanels, fPanels)\n",
    "        \n",
    "        liftGuess, _ = liftCalc(panels, u_inf, alpha, N)\n",
    "        \n",
    "        print(iteration, alphaFlap, liftGuess)\n",
    "        \n",
    "        if numpy.abs(rangeUpper - rangeLower) / 2 < tolerance:\n",
    "            break\n",
    "            \n",
    "        if numpy.sign(liftGuess) == numpy.sign(liftCalcHold):\n",
    "            rangeUpper = alphaFlap\n",
    "            liftCalcHold = liftGuess\n",
    "            \n",
    "        else: \n",
    "            rangeLower = alphaFlap\n",
    "            \n",
    "        iteration = iteration + 1\n",
    "        \n",
    "    return alphaFlap"
   ]
  },
  {
   "cell_type": "code",
   "execution_count": 13,
   "metadata": {},
   "outputs": [
    {
     "name": "stdout",
     "output_type": "stream",
     "text": [
      "0 0.0 1.5201862605266274\n",
      "1 -7.0 0.5483384625523494\n",
      "2 -10.5 0.06349890620405918\n",
      "3 -12.25 -0.1754769487544667\n",
      "4 -11.375 -0.05636954672633148\n",
      "5 -10.9375 0.003476521424692291\n",
      "6 -11.15625 -0.026469425555752435\n",
      "7 -11.046875 -0.011502071227552276\n",
      "8 -10.9921875 -0.004014166049861656\n",
      "9 -10.96484375 -0.00026916839387743086\n",
      "10 -10.951171875 0.0016035902083459893\n",
      "11 -10.9580078125 0.0006671893038121595\n"
     ]
    }
   ],
   "source": [
    "xMain, yMain = numpy.loadtxt('NACA23012_MainFoil.csv', dtype=float, delimiter=',', unpack=True)\n",
    "xFlap, yFlap = numpy.loadtxt('NACA23012_FlapFoil.csv', dtype=float, delimiter=',', unpack=True)\n",
    "\n",
    "xC, yC = 1.03, -0.054\n",
    "\n",
    "xFlap20, yFlap20 = flapAOA(xC, yC, xFlap, yFlap, 20.0)\n",
    "\n",
    "N = xMain.size - 1\n",
    "\n",
    "u_inf = 1.0\n",
    "alphaMain = 0.0\n",
    "alphaFlap = 20.0\n",
    "\n",
    "mPanels = define_panels(xMain, yMain, N)\n",
    "fPanels = define_panels(xFlap20, yFlap20, N)\n",
    "\n",
    "panels = numpy.append(mPanels, fPanels)\n",
    "\n",
    "alpha = bisection(panels, u_inf, alpha, N, 20, -14.0, 14.0, 0.01)"
   ]
  },
  {
   "cell_type": "code",
   "execution_count": 14,
   "metadata": {},
   "outputs": [
    {
     "name": "stdout",
     "output_type": "stream",
     "text": [
      "0 0.0 0.27191064446868785\n",
      "1 -5.0 -0.029284938531412466\n",
      "2 -2.5 0.12073395772163853\n",
      "3 -3.75 0.04557839401876146\n",
      "4 -4.375 0.008110012361247795\n",
      "5 -4.6875 -0.010596666081001451\n",
      "6 -4.53125 -0.001245624551723716\n",
      "7 -4.453125 0.0034316198605975744\n",
      "8 -4.4921875 0.0010928540962311037\n",
      "9 -4.51171875 -7.642112327409047e-05\n",
      "10 -4.501953125 0.0005082075133687798\n"
     ]
    }
   ],
   "source": [
    "alphaFlap = bisectionFlap(xMain, yMain, xFlap, yFlap, xC, yC, u_inf, 0.0, N, \n",
    "                          20, -10.0, 10.0, 0.01)"
   ]
  },
  {
   "cell_type": "code",
   "execution_count": 15,
   "metadata": {},
   "outputs": [
    {
     "name": "stdout",
     "output_type": "stream",
     "text": [
      "[0.82435976 1.12804895 1.43522694 1.74566936]\n",
      "[0.05731872 0.07866282 0.10026415 0.12209081]\n"
     ]
    }
   ],
   "source": [
    "incidence = 4.0\n",
    "flapAngle = [0.0, 5.0, 10.0, 15.0]\n",
    "liftAngle = numpy.empty_like(flapAngle)\n",
    "dragAngle = numpy.empty_like(flapAngle)\n",
    "\n",
    "i = 0\n",
    "\n",
    "for i in range(0, numpy.size(flapAngle)):\n",
    "    xFlapAngle, yFlapAngle = flapAOA(xC, yC, xFlap, yFlap, flapAngle[i])\n",
    "\n",
    "    mPanels = define_panels(xMain, yMain, N)\n",
    "    fPanels = define_panels(xFlapAngle, yFlapAngle, N)\n",
    "\n",
    "    panels = numpy.append(mPanels, fPanels)\n",
    "    \n",
    "    liftAngle[i], dragAngle[i] = liftCalc(panels, u_inf, incidence, N)\n",
    "    \n",
    "print(liftAngle)\n",
    "print(dragAngle)\n",
    "\n",
    "percentSlower = numpy.empty_like(liftAngle)\n",
    "\n",
    "i = 0\n",
    "for i in range(0, numpy.size(liftAngle)):\n",
    "    percentSlower[i] = (1 - numpy.sqrt(liftAngle[0]/liftAngle[i])) * 100"
   ]
  },
  {
   "cell_type": "markdown",
   "metadata": {},
   "source": [
    "##### Questions"
   ]
  },
  {
   "cell_type": "markdown",
   "metadata": {},
   "source": [
    "### Q1."
   ]
  },
  {
   "cell_type": "markdown",
   "metadata": {},
   "source": [
    "* Use the [bisection method](http://en.wikipedia.org/wiki/Bisection_method) to determine the angle of attack, $\\alpha$, that will cause zero lift when the flap angle is $20$º. Round your answer to the second digit after the floating point.\n",
    "\n",
    "**HINT**: you can start the bisection method within the range $-14\\le\\alpha\\le14$."
   ]
  },
  {
   "cell_type": "code",
   "execution_count": 16,
   "metadata": {},
   "outputs": [
    {
     "name": "stdout",
     "output_type": "stream",
     "text": [
      "The angle of attack, alpha, that will cause a zero lift is:  -10.96\n"
     ]
    }
   ],
   "source": [
    "print('The angle of attack, alpha, that will cause a zero lift is: ', numpy.round(alpha, 2))"
   ]
  },
  {
   "cell_type": "markdown",
   "metadata": {},
   "source": [
    "### Q2."
   ]
  },
  {
   "cell_type": "markdown",
   "metadata": {},
   "source": [
    "* Use the [bisection method](http://en.wikipedia.org/wiki/Bisection_method) to determine the flap angle that will cause zero lift when the angle of attack, $\\alpha$, is $0$º. Round your answer to the second digit after the floating point."
   ]
  },
  {
   "cell_type": "code",
   "execution_count": 17,
   "metadata": {},
   "outputs": [
    {
     "name": "stdout",
     "output_type": "stream",
     "text": [
      "The flap angle that will cause a zero lift is:  -4.5\n"
     ]
    }
   ],
   "source": [
    "print('The flap angle that will cause a zero lift is: ', numpy.round(alphaFlap, 2))"
   ]
  },
  {
   "cell_type": "markdown",
   "metadata": {},
   "source": [
    "### Q3."
   ]
  },
  {
   "cell_type": "markdown",
   "metadata": {},
   "source": [
    "* Suppose that the main airfoil is attached to the fuselage of an airplane at an incidence angle of $4$º (that is, the built-in angle of attack of the wing when the airplane is in level flight is $4$º). Compute the lift coefficient with the flap at $0$º deflection, and at $5$, $10$ and $15$ degrees. How much slower (in percentage) can the airplane fly (in level flight) with the flaps extended at these settings, compared with $0$º?"
   ]
  },
  {
   "cell_type": "code",
   "execution_count": 18,
   "metadata": {},
   "outputs": [
    {
     "name": "stdout",
     "output_type": "stream",
     "text": [
      "The lift coefficients with a 4 Degree Incidence angle, and a flap angle of 0, 5, 10, and 15 degrees are:  [0.824 1.128 1.435 1.746] respectively\n",
      "The percentage that the aircraft can fly slower at 5 degrees flap angle is:  14.51\n",
      "The percentage that the aircraft can fly slower at 10 degrees flap angle is:  24.21\n",
      "The percentage that the aircraft can fly slower at 15 degrees flap angle is:  31.28\n"
     ]
    }
   ],
   "source": [
    "print('The lift coefficients with a 4 Degree Incidence angle, and a flap angle of 0, 5, 10, and 15 degrees are: ', \n",
    "      numpy.round(liftAngle, 3), 'respectively')\n",
    "print('The percentage that the aircraft can fly slower at 5 degrees flap angle is: ', numpy.round(percentSlower[1],2))\n",
    "print('The percentage that the aircraft can fly slower at 10 degrees flap angle is: ', numpy.round(percentSlower[2], 2))\n",
    "print('The percentage that the aircraft can fly slower at 15 degrees flap angle is: ', numpy.round(percentSlower[3], 2))"
   ]
  },
  {
   "cell_type": "markdown",
   "metadata": {},
   "source": [
    "##### Think"
   ]
  },
  {
   "cell_type": "markdown",
   "metadata": {},
   "source": [
    "Think about the meaning of what you observed in **Q3**, above. What is the effect of using the flap?"
   ]
  },
  {
   "cell_type": "markdown",
   "metadata": {},
   "source": [
    "Thinking about the observations in Q3, using the flap effects the characteristics of the air foil in a few differenent ways. First, by using the flap, the stall speed of the air foil is drastically decreased by 14% with just a small angle, and up to 31% with an angle of 15 degrees. Additionally, the amount of lift of the foil is increased with the flap. Since the aircraft can fly slower, there is a larger surface area that can be utilized for lift, which ultimately allows for a slower landing when the aircraft begins decent. "
   ]
  },
  {
   "cell_type": "markdown",
   "metadata": {},
   "source": [
    "## References"
   ]
  },
  {
   "cell_type": "markdown",
   "metadata": {},
   "source": [
    "*  B. R. Williams (1973), *An Exact Test Case for the Plane Potential Flow About Two Adjacent Lifting Aerofoils*, Reports & Memoranda No. 3717, Aeronautical Research Council of the United Kingdom // [PDF at Cranfield University](http://naca.central.cranfield.ac.uk/reports/arc/rm/3717.pdf)\n",
    "\n",
    "* C. J. Wenzinger (1938), *Pressure distribution over an NACA 23012 airfoil with an N.A.C.A. 23012 external-airfoil flap*, NACA Technical Report No.614 // [PDF at NASA](http://ntrs.nasa.gov/archive/nasa/casi.ntrs.nasa.gov/19930091690.pdf)"
   ]
  },
  {
   "cell_type": "markdown",
   "metadata": {},
   "source": [
    "-----------------------------"
   ]
  }
 ],
 "metadata": {
  "kernelspec": {
   "display_name": "Python 3",
   "language": "python",
   "name": "python3"
  },
  "language_info": {
   "codemirror_mode": {
    "name": "ipython",
    "version": 3
   },
   "file_extension": ".py",
   "mimetype": "text/x-python",
   "name": "python",
   "nbconvert_exporter": "python",
   "pygments_lexer": "ipython3",
   "version": "3.7.3"
  }
 },
 "nbformat": 4,
 "nbformat_minor": 1
}
